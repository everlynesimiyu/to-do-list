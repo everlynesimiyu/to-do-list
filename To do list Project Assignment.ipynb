{
 "cells": [
  {
   "cell_type": "code",
   "execution_count": null,
   "id": "f9e8d101-2895-46d0-b52d-cb93fabfff7a",
   "metadata": {
    "tags": []
   },
   "outputs": [
    {
     "name": "stdout",
     "output_type": "stream",
     "text": [
      "Welcome to the ToDo App!\n",
      "1. Add Task\n",
      "2. Mark Task as Completed\n",
      "3. List Tasks\n",
      "4. Remove Task\n",
      "5. Quit\n"
     ]
    },
    {
     "name": "stdin",
     "output_type": "stream",
     "text": [
      "Select choices:  1\n",
      "Enter task description:  Waking up\n"
     ]
    },
    {
     "name": "stdout",
     "output_type": "stream",
     "text": [
      "Task added!\n",
      "Welcome to the ToDo App!\n",
      "1. Add Task\n",
      "2. Mark Task as Completed\n",
      "3. List Tasks\n",
      "4. Remove Task\n",
      "5. Quit\n"
     ]
    },
    {
     "name": "stdin",
     "output_type": "stream",
     "text": [
      "Select choices:  3\n"
     ]
    },
    {
     "name": "stdout",
     "output_type": "stream",
     "text": [
      "Task List:\n",
      "0. Waking up - Not Completed\n",
      "Welcome to the ToDo App!\n",
      "1. Add Task\n",
      "2. Mark Task as Completed\n",
      "3. List Tasks\n",
      "4. Remove Task\n",
      "5. Quit\n"
     ]
    },
    {
     "name": "stdin",
     "output_type": "stream",
     "text": [
      "Select choices:  2\n",
      "Enter task index to mark as completed:  0\n"
     ]
    },
    {
     "name": "stdout",
     "output_type": "stream",
     "text": [
      "Task marked as completed.\n",
      "Welcome to the ToDo App!\n",
      "1. Add Task\n",
      "2. Mark Task as Completed\n",
      "3. List Tasks\n",
      "4. Remove Task\n",
      "5. Quit\n"
     ]
    },
    {
     "name": "stdin",
     "output_type": "stream",
     "text": [
      "Select choices:  1\n",
      "Enter task description:  Bathing\n"
     ]
    },
    {
     "name": "stdout",
     "output_type": "stream",
     "text": [
      "Task added!\n",
      "Welcome to the ToDo App!\n",
      "1. Add Task\n",
      "2. Mark Task as Completed\n",
      "3. List Tasks\n",
      "4. Remove Task\n",
      "5. Quit\n"
     ]
    },
    {
     "name": "stdin",
     "output_type": "stream",
     "text": [
      "Select choices:  3\n"
     ]
    },
    {
     "name": "stdout",
     "output_type": "stream",
     "text": [
      "Task List:\n",
      "0. Waking up - Completed\n",
      "1. Bathing - Not Completed\n",
      "Welcome to the ToDo App!\n",
      "1. Add Task\n",
      "2. Mark Task as Completed\n",
      "3. List Tasks\n",
      "4. Remove Task\n",
      "5. Quit\n"
     ]
    },
    {
     "name": "stdin",
     "output_type": "stream",
     "text": [
      "Select choices:  1\n",
      "Enter task description:  Taking breakfast\n"
     ]
    },
    {
     "name": "stdout",
     "output_type": "stream",
     "text": [
      "Task added!\n",
      "Welcome to the ToDo App!\n",
      "1. Add Task\n",
      "2. Mark Task as Completed\n",
      "3. List Tasks\n",
      "4. Remove Task\n",
      "5. Quit\n"
     ]
    },
    {
     "name": "stdin",
     "output_type": "stream",
     "text": [
      "Select choices:  3\n"
     ]
    },
    {
     "name": "stdout",
     "output_type": "stream",
     "text": [
      "Task List:\n",
      "0. Waking up - Completed\n",
      "1. Bathing - Not Completed\n",
      "2. Taking breakfast - Not Completed\n",
      "Welcome to the ToDo App!\n",
      "1. Add Task\n",
      "2. Mark Task as Completed\n",
      "3. List Tasks\n",
      "4. Remove Task\n",
      "5. Quit\n"
     ]
    },
    {
     "name": "stdin",
     "output_type": "stream",
     "text": [
      "Select choices:  1\n",
      "Enter task description:  Taking lunch\n"
     ]
    },
    {
     "name": "stdout",
     "output_type": "stream",
     "text": [
      "Task added!\n",
      "Welcome to the ToDo App!\n",
      "1. Add Task\n",
      "2. Mark Task as Completed\n",
      "3. List Tasks\n",
      "4. Remove Task\n",
      "5. Quit\n"
     ]
    },
    {
     "name": "stdin",
     "output_type": "stream",
     "text": [
      "Select choices:  3\n"
     ]
    },
    {
     "name": "stdout",
     "output_type": "stream",
     "text": [
      "Task List:\n",
      "0. Waking up - Completed\n",
      "1. Bathing - Not Completed\n",
      "2. Taking breakfast - Not Completed\n",
      "3. Taking lunch - Not Completed\n",
      "Welcome to the ToDo App!\n",
      "1. Add Task\n",
      "2. Mark Task as Completed\n",
      "3. List Tasks\n",
      "4. Remove Task\n",
      "5. Quit\n"
     ]
    },
    {
     "name": "stdin",
     "output_type": "stream",
     "text": [
      "Select choices:  1\n",
      "Enter task description:  Swimming\n"
     ]
    },
    {
     "name": "stdout",
     "output_type": "stream",
     "text": [
      "Task added!\n",
      "Welcome to the ToDo App!\n",
      "1. Add Task\n",
      "2. Mark Task as Completed\n",
      "3. List Tasks\n",
      "4. Remove Task\n",
      "5. Quit\n"
     ]
    },
    {
     "name": "stdin",
     "output_type": "stream",
     "text": [
      "Select choices:  3\n"
     ]
    },
    {
     "name": "stdout",
     "output_type": "stream",
     "text": [
      "Task List:\n",
      "0. Waking up - Completed\n",
      "1. Bathing - Not Completed\n",
      "2. Taking breakfast - Not Completed\n",
      "3. Taking lunch - Not Completed\n",
      "4. Swimming - Not Completed\n",
      "Welcome to the ToDo App!\n",
      "1. Add Task\n",
      "2. Mark Task as Completed\n",
      "3. List Tasks\n",
      "4. Remove Task\n",
      "5. Quit\n"
     ]
    },
    {
     "name": "stdin",
     "output_type": "stream",
     "text": [
      "Select choices:  2\n",
      "Enter task index to mark as completed:  4\n"
     ]
    },
    {
     "name": "stdout",
     "output_type": "stream",
     "text": [
      "Task marked as completed.\n",
      "Welcome to the ToDo App!\n",
      "1. Add Task\n",
      "2. Mark Task as Completed\n",
      "3. List Tasks\n",
      "4. Remove Task\n",
      "5. Quit\n"
     ]
    },
    {
     "name": "stdin",
     "output_type": "stream",
     "text": [
      "Select choices:  3\n"
     ]
    },
    {
     "name": "stdout",
     "output_type": "stream",
     "text": [
      "Task List:\n",
      "0. Waking up - Completed\n",
      "1. Bathing - Not Completed\n",
      "2. Taking breakfast - Not Completed\n",
      "3. Taking lunch - Not Completed\n",
      "4. Swimming - Completed\n",
      "Welcome to the ToDo App!\n",
      "1. Add Task\n",
      "2. Mark Task as Completed\n",
      "3. List Tasks\n",
      "4. Remove Task\n",
      "5. Quit\n"
     ]
    },
    {
     "name": "stdin",
     "output_type": "stream",
     "text": [
      "Select choices:  4\n",
      "Enter task index to remove:  1\n"
     ]
    },
    {
     "name": "stdout",
     "output_type": "stream",
     "text": [
      "Task 'Bathing' removed.\n",
      "Welcome to the ToDo App!\n",
      "1. Add Task\n",
      "2. Mark Task as Completed\n",
      "3. List Tasks\n",
      "4. Remove Task\n",
      "5. Quit\n"
     ]
    },
    {
     "name": "stdin",
     "output_type": "stream",
     "text": [
      "Select choices:  3\n"
     ]
    },
    {
     "name": "stdout",
     "output_type": "stream",
     "text": [
      "Task List:\n",
      "0. Waking up - Completed\n",
      "1. Taking breakfast - Not Completed\n",
      "2. Taking lunch - Not Completed\n",
      "3. Swimming - Completed\n",
      "Welcome to the ToDo App!\n",
      "1. Add Task\n",
      "2. Mark Task as Completed\n",
      "3. List Tasks\n",
      "4. Remove Task\n",
      "5. Quit\n"
     ]
    }
   ],
   "source": [
    "class ToDoListClass:\n",
    "    def __init__(self):\n",
    "        self.tasks = []\n",
    "\n",
    "    def display_choices(self):\n",
    "        print(\"Welcome to the ToDo App!\")\n",
    "        print(\"1. Add Task\")\n",
    "        print(\"2. Mark Task as Completed\")\n",
    "        print(\"3. List Tasks\")\n",
    "        print(\"4. Remove Task\")\n",
    "        print(\"5. Quit\")\n",
    "\n",
    "    def add_new_task(self, task_description):\n",
    "        self.tasks.append({\"description\": task_description, \"completed\": False})\n",
    "        print(\"Task added!\")\n",
    "\n",
    "    def mark_task_completed(self, index):\n",
    "        if 0 <= index < len(self.tasks):\n",
    "            if not self.tasks[index][\"completed\"]:\n",
    "                self.tasks[index][\"completed\"] = True\n",
    "                print(\"Task marked as completed.\")\n",
    "            else:\n",
    "                print(\"Task completed.\")\n",
    "        else:\n",
    "            print(\"Invalid task index.\")\n",
    "\n",
    "    def list_tasks(self):\n",
    "        print(\"Task List:\")\n",
    "        for i, task in enumerate(self.tasks):\n",
    "            status = \"Completed\" if task[\"completed\"] else \"Not Completed\"\n",
    "            print(f\"{i}. {task['description']} - {status}\")\n",
    "\n",
    "    def remove_task(self, index):\n",
    "        if 0 <= index < len(self.tasks):\n",
    "            removed_task = self.tasks.pop(index)\n",
    "            print(f\"Task '{removed_task['description']}' removed.\")\n",
    "        else:\n",
    "            print(\"Invalid task index.\")\n",
    "\n",
    "    def run(self):\n",
    "        while True:\n",
    "            self.display_choices()\n",
    "            choice = input(\"Select choices: \")\n",
    "\n",
    "            if choice == \"1\":\n",
    "                task_description = input(\"Enter task description: \")\n",
    "                self.add_new_task(task_description)\n",
    "            elif choice == \"2\":\n",
    "                index = int(input(\"Enter task index to mark as completed: \"))\n",
    "                self.mark_task_completed(index)\n",
    "            elif choice == \"3\":\n",
    "                self.list_tasks()\n",
    "            elif choice == \"4\":\n",
    "                index = int(input(\"Enter task index to remove: \"))\n",
    "                self.remove_task(index)\n",
    "            elif choice == \"5\":\n",
    "                print(\"Goodbye!\")\n",
    "                break\n",
    "            else:\n",
    "                print(\"Invalid choice. Please select a valid option.\")\n",
    "\n",
    "\n",
    "if __name__ == \"__main__\":\n",
    "    todo_app = ToDoListClass()\n",
    "    todo_app.run()"
   ]
  }
 ],
 "metadata": {
  "kernelspec": {
   "display_name": "Python 3 (ipykernel)",
   "language": "python",
   "name": "python3"
  },
  "language_info": {
   "codemirror_mode": {
    "name": "ipython",
    "version": 3
   },
   "file_extension": ".py",
   "mimetype": "text/x-python",
   "name": "python",
   "nbconvert_exporter": "python",
   "pygments_lexer": "ipython3",
   "version": "3.11.3"
  }
 },
 "nbformat": 4,
 "nbformat_minor": 5
}
